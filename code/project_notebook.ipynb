{
 "cells": [
  {
   "cell_type": "markdown",
   "metadata": {},
   "source": [
    "# Social Clustering and Individualism\n",
    "\n",
    "### Jeremy Ryan\n",
    "\n",
    "Within a population of humans, there tends to be a balance of diversity and clustering of opinion — that is, for any continuous stance (say, degree of support for speed limit enforcement) there tend to be social clusters with some amount of consensus within and some amount of variance between each cluster. This phenomenon is called pluralism.\n",
    "\n",
    "This notebook is an effort to recreate the agent-based model described in a [paper by Mäs et all](https://journals.plos.org/ploscompbiol/article?id=10.1371/journal.pcbi.1000959) and extend the model in a useful way. You can read more about this project from the [corresponding Github repository](https://github.com/jeremycryan/social-clustering)."
   ]
  },
  {
   "cell_type": "code",
   "execution_count": 10,
   "metadata": {},
   "outputs": [],
   "source": [
    "import random\n",
    "import matplotlib"
   ]
  },
  {
   "cell_type": "markdown",
   "metadata": {},
   "source": [
    "### Agent Class\n",
    "\n",
    "Agents in the Mäs et al paper balance homophily with individualism."
   ]
  },
  {
   "cell_type": "code",
   "execution_count": 11,
   "metadata": {},
   "outputs": [],
   "source": [
    "class Agent(object):\n",
    "    \"\"\" Represents a single agent with an opinion. \"\"\"\n",
    "    \n",
    "    def __init__(self, population):\n",
    "        self.opinion = 0   # TODO properly define initial condition for opinions\n",
    "        self.population = population\n",
    "        \n",
    "    def update(self):\n",
    "        \"\"\" Updates the current agent's opinion based on the state of the population. \"\"\"\n",
    "        # TODO implement this, maybe use helper functions so it's not disgusting\n",
    "        pass\n",
    "    \n",
    "    def other_agents(self):\n",
    "        \"\"\" Generator function to yield all agents except this one. \"\"\"\n",
    "        for agent in self.population.agents:\n",
    "            if agent is not self:\n",
    "                yield agent"
   ]
  },
  {
   "cell_type": "markdown",
   "metadata": {},
   "source": [
    "### Population Class\n",
    "\n",
    "The population class represents a collection of Agents."
   ]
  },
  {
   "cell_type": "code",
   "execution_count": 12,
   "metadata": {},
   "outputs": [],
   "source": [
    "class Population(object):\n",
    "    \"\"\" Represents a population of Agents. \"\"\"\n",
    "    \n",
    "    def __init__(self):\n",
    "        self.agents = set()\n",
    "\n",
    "    def populate(self, n=100):\n",
    "        \"\"\" Add n new agents to the Population. \"\"\"\n",
    "        new_agents = set(Agent(self) for _ in range(n))\n",
    "        self.agents += new_agents\n",
    "\n",
    "    def update_all(self):\n",
    "        \"\"\" Update all agents in the Population. \"\"\"\n",
    "        for agent in self.agents:\n",
    "            agent.update()\n",
    "            \n",
    "    def update_random(self, n=1):\n",
    "        \"\"\" Update n random Agents in the Population. \"\"\"\n",
    "        for agent in random.sample(self.agents, n):\n",
    "            agent.update()"
   ]
  }
 ],
 "metadata": {
  "kernelspec": {
   "display_name": "Python 3",
   "language": "python",
   "name": "python3"
  },
  "language_info": {
   "codemirror_mode": {
    "name": "ipython",
    "version": 3
   },
   "file_extension": ".py",
   "mimetype": "text/x-python",
   "name": "python",
   "nbconvert_exporter": "python",
   "pygments_lexer": "ipython3",
   "version": "3.7.4"
  }
 },
 "nbformat": 4,
 "nbformat_minor": 2
}
