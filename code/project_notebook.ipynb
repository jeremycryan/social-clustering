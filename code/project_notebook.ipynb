{
 "cells": [
  {
   "cell_type": "markdown",
   "metadata": {},
   "source": [
    "# Social Clustering and Individualism\n",
    "\n",
    "### Jeremy Ryan\n",
    "\n",
    "Within a population of humans, there tends to be a balance of diversity and clustering of opinion — that is, for any continuous stance (say, degree of support for speed limit enforcement) there tend to be social clusters with some amount of consensus within and some amount of variance between each cluster. This phenomenon is called pluralism.\n",
    "\n",
    "This notebook is an effort to recreate the agent-based model described in a [paper by Mäs et all](https://journals.plos.org/ploscompbiol/article?id=10.1371/journal.pcbi.1000959) and extend the model in a useful way. You can read more about this project from the [corresponding Github repository](https://github.com/jeremycryan/social-clustering)."
   ]
  },
  {
   "cell_type": "code",
   "execution_count": 1,
   "metadata": {},
   "outputs": [],
   "source": [
    "import random\n",
    "import math\n",
    "import statistics\n",
    "\n",
    "import matplotlib.pyplot as plt"
   ]
  },
  {
   "cell_type": "markdown",
   "metadata": {},
   "source": [
    "### Agent Class\n",
    "\n",
    "Agents in the Mäs et al paper balance homophily with individualism."
   ]
  },
  {
   "cell_type": "code",
   "execution_count": 2,
   "metadata": {},
   "outputs": [],
   "source": [
    "class Agent(object):\n",
    "    \"\"\" Represents a single agent with an opinion. \"\"\"\n",
    "    \n",
    "    A = 2    # Parameter representing range of social influence --- see paper\n",
    "    s = 3.5  # Parameter representing strength of disintegrating force --- see paper\n",
    "    \n",
    "    min_opinion = -250\n",
    "    max_opinion = 250\n",
    "    \n",
    "    social_influences = None\n",
    "    \n",
    "    def __init__(self, population):\n",
    "        self.opinion = random.gauss(0, 10)   # TODO properly define initial condition for opinions\n",
    "        self.apply_opinion_threshold()\n",
    "        self.population = population\n",
    "        \n",
    "    def update(self):\n",
    "        \"\"\" Updates the current agent's opinion based on the state of the population. \"\"\"\n",
    "        self.opinion += self.total_social_influence() + self.gaussian_term()\n",
    "        self.apply_opinion_threshold()\n",
    "        self.reset_stored_vars()\n",
    "        \n",
    "    def reset_stored_vars(self):\n",
    "        \"\"\" Resets the variables stored each time step. \"\"\"\n",
    "        self.social_influences = None\n",
    "\n",
    "    def apply_opinion_threshold(self):\n",
    "        \"\"\" Limits the opinion of the agent to be within defined min and max values. \"\"\"\n",
    "        self.opinion = min(self.opinion, self.max_opinion)\n",
    "        self.opinion = max(self.opinion, self.min_opinion)\n",
    "    \n",
    "    def other_agents(self):\n",
    "        \"\"\" Generator function to yield all agents except this one. \"\"\"\n",
    "        for agent in self.population.agents:\n",
    "            if agent is not self:\n",
    "                yield agent\n",
    "                \n",
    "    def social_influence(self, other):\n",
    "        \"\"\" Calculate the degree to which another Agent influences\n",
    "            this one; increases with more similar opinion\n",
    "        \"\"\"\n",
    "        exponent = -abs(self.opinion - other.opinion)/self.A\n",
    "        return math.exp(exponent)\n",
    "    \n",
    "    def total_social_influence(self):\n",
    "        \"\"\" Returns a weighted sum of difference of opinion between other agents,\n",
    "            with weights of each other agent's social influence, normalized\n",
    "            to the total social influence of all other agents.\n",
    "        \"\"\"\n",
    "        self.social_influences = {}\n",
    "        for other in self.other_agents():\n",
    "            self.social_influences[other] = self.social_influence(other)\n",
    "        \n",
    "        numerator = sum([(other.opinion - self.opinion) \n",
    "                         * self.social_influences[other] \n",
    "                         for other in self.other_agents()])\n",
    "        \n",
    "        denominator = sum([self.social_influences[other]\n",
    "                          for other in self.other_agents()])\n",
    "        \n",
    "        return numerator/denominator\n",
    "    \n",
    "    def gaussian_term(self):\n",
    "        \"\"\" Returns a random value, based on parameters A and s. \"\"\"\n",
    "        \n",
    "        std_dev = self.s * sum([self.social_influences[other]**self.A\n",
    "                                for other in self.other_agents()])\n",
    "        return random.gauss(0, std_dev)"
   ]
  },
  {
   "cell_type": "markdown",
   "metadata": {},
   "source": [
    "### Population Class\n",
    "\n",
    "The population class represents a collection of Agents."
   ]
  },
  {
   "cell_type": "code",
   "execution_count": 3,
   "metadata": {},
   "outputs": [],
   "source": [
    "class Population(object):\n",
    "    \"\"\" Represents a population of Agents. \"\"\"\n",
    "    \n",
    "    def __init__(self):\n",
    "        self.agents = set()\n",
    "\n",
    "    def populate(self, n=100):\n",
    "        \"\"\" Add n new agents to the Population. \"\"\"\n",
    "        new_agents = set(Agent(self) for _ in range(n))\n",
    "        self.agents |= new_agents\n",
    "\n",
    "    def update_all(self):\n",
    "        \"\"\" Update all agents in the Population. \"\"\"\n",
    "        for agent in self.agents:\n",
    "            agent.update()\n",
    "            \n",
    "    def update_random(self, n=1):\n",
    "        \"\"\" Update n random Agents in the Population. \"\"\"\n",
    "        for agent in random.sample(self.agents, n):\n",
    "            agent.update()\n",
    "            \n",
    "    def each_opinion(self):\n",
    "        \"\"\" Returns a list of the opinion of all agents. \"\"\"\n",
    "        return [agent.opinion for agent in self.agents]\n",
    "    \n",
    "    def average_opinion(self):\n",
    "        \"\"\" Yields the average opinion of all agents. \"\"\"\n",
    "        opinions = self.each_opinion()\n",
    "        return sum(opinions)/len(opinions)"
   ]
  },
  {
   "cell_type": "markdown",
   "metadata": {},
   "source": [
    "### Simulation\n",
    "\n",
    "Lets see what happens when we run a population of 100 agents for a few thousand time steps."
   ]
  },
  {
   "cell_type": "code",
   "execution_count": 4,
   "metadata": {},
   "outputs": [],
   "source": [
    "# Instantiate population and add agents\n",
    "pop_size = 50\n",
    "updates_per_step = pop_size\n",
    "pop = Population()\n",
    "pop.populate(n=pop_size)\n",
    "\n",
    "# Record average opinion and the opinion of each agent\n",
    "num_steps = 5000\n",
    "x = list(range(num_steps))\n",
    "avg_o = []\n",
    "ys = []\n",
    "\n",
    "for x_val in x:\n",
    "    avg_o.append(pop.average_opinion())\n",
    "    ys.append(pop.each_opinion())\n",
    "    pop.update_random(updates_per_step)\n",
    "\n",
    "ys = list(zip(*ys))"
   ]
  },
  {
   "cell_type": "markdown",
   "metadata": {},
   "source": [
    "This plot should look similar to the [clustering plot](https://journals.plos.org/ploscompbiol/article/figure/image?size=large&id=info:doi/10.1371/journal.pcbi.1000959.g002) in the source paper, in that it has multiple opinion clusters that change over time."
   ]
  },
  {
   "cell_type": "code",
   "execution_count": 5,
   "metadata": {},
   "outputs": [
    {
     "data": {
      "image/png": "[encoded data removed]",
      "text/plain": [
       "<Figure size 432x288 with 1 Axes>"
      ]
     },
     "metadata": {
      "needs_background": "light"
     },
     "output_type": "display_data"
    }
   ],
   "source": [
    "for item in ys:\n",
    "    plt.plot(x, item, 'k', linewidth=1, alpha=0.03)\n",
    "#plt.plot(x, avg_o, 'k', linewidth=3)\n",
    "\n",
    "plt.xlim([0, num_steps])\n",
    "plt.ylim([-250, 250])\n",
    "plt.xlabel(\"Time step\")\n",
    "plt.ylabel(\"Opinion\")\n",
    "plt.show()"
   ]
  },
  {
   "cell_type": "markdown",
   "metadata": {},
   "source": [
    "### Using Opinion in Multiple Axes\n",
    "In real life, humans hold more than one opinion. However, social influence is more likely rooted in how close your total worldview coincides with another human, rather than each axis individually. As such, I've implemented a second model where agents can have an arbitrary number of opinions, and sum their distances when calculating social influence."
   ]
  },
  {
   "cell_type": "code",
   "execution_count": 6,
   "metadata": {},
   "outputs": [],
   "source": [
    "class MultipleOpinionAgent(Agent):\n",
    "    \"\"\" Represents a single agent with one or more opinions. \"\"\"\n",
    "    \n",
    "    A = 1.0 # Parameter representing range of social influence --- see paper\n",
    "    s = 16  # Parameter representing strength of disintegrating force --- see paper\n",
    "    \n",
    "    min_opinion = -250\n",
    "    max_opinion = 250\n",
    "    \n",
    "    social_influences = None\n",
    "    \n",
    "    def __init__(self, population, n=2):\n",
    "        self.opinion = [random.gauss(0, 10) for _ in range(n)]\n",
    "        self.apply_opinion_threshold()\n",
    "        self.population = population\n",
    "        \n",
    "    def update(self):\n",
    "        \"\"\" Updates the current agent's opinion based on the state of the population. \"\"\"\n",
    "        social_influence_vector = self.total_social_influence()\n",
    "        for i, opinion in enumerate(self.opinion):\n",
    "            self.opinion[i] += social_influence_vector[i] + self.gaussian_term()\n",
    "        self.apply_opinion_threshold()\n",
    "        self.reset_stored_vars()\n",
    "\n",
    "    def apply_opinion_threshold(self):\n",
    "        \"\"\" Limits the opinion of the agent to be within defined min and max values. \"\"\"\n",
    "        for i, opinion in enumerate(self.opinion):\n",
    "            self.opinion[i] = min(opinion, self.max_opinion)\n",
    "            self.opinion[i] = max(opinion, self.min_opinion)\n",
    "            \n",
    "    def social_influence(self, other):\n",
    "        \"\"\" Calculate the degree to which another Agent influences\n",
    "            this one; increases with more similar opinion\n",
    "        \"\"\"\n",
    "        sq_opinion_distance = 0\n",
    "        for i, opinion in enumerate(self.opinion):\n",
    "            sq_opinion_distance += abs(opinion - other.opinion[i])**2\n",
    "        \n",
    "        exponent = -abs(sq_opinion_distance**0.5)/self.A\n",
    "        return math.exp(exponent)\n",
    "\n",
    "    def total_social_influence(self):\n",
    "        \"\"\" Returns a weighted sum of difference of opinion between other agents,\n",
    "            with weights of each other agent's social influence, normalized\n",
    "            to the total social influence of all other agents.\n",
    "        \"\"\"\n",
    "        vector = ()\n",
    "        for i, opinion in enumerate(self.opinion):\n",
    "            numerator = sum([(other.opinion[i] - self.opinion[i])\n",
    "                             * self.social_influence(other)\n",
    "                             for other in self.other_agents()])\n",
    "\n",
    "            denominator = sum([self.social_influence(other)\n",
    "                              for other in self.other_agents()])\n",
    "\n",
    "            total = numerator/denominator\n",
    "            vector += (total,)\n",
    "        return vector\n",
    "    \n",
    "    def other_agents(self):\n",
    "        \"\"\" Generator function to yield all agents except this one. \"\"\"\n",
    "        for agent in self.population.agents:\n",
    "            if agent is not self:\n",
    "                yield agent\n",
    "\n",
    "    def gaussian_term(self):\n",
    "        \"\"\" Returns a random value, based on parameters A and s. \"\"\"\n",
    "        \n",
    "        std_dev = self.s * sum([self.social_influence(other)**self.A\n",
    "                                for other in self.other_agents()])\n",
    "            \n",
    "        return random.gauss(0, std_dev)"
   ]
  },
  {
   "cell_type": "markdown",
   "metadata": {},
   "source": [
    "Additionally, we can create a Population object to interface with these new Agents."
   ]
  },
  {
   "cell_type": "code",
   "execution_count": 7,
   "metadata": {},
   "outputs": [],
   "source": [
    "class MultipleOpinionPopulation(Population):\n",
    "    \"\"\" Represents a population of Agents. \"\"\"\n",
    "\n",
    "    def populate(self, n=100):\n",
    "        \"\"\" Add n new agents to the Population. \"\"\"\n",
    "        new_agents = set(MultipleOpinionAgent(self) for _ in range(n))\n",
    "        self.agents |= new_agents\n",
    "\n",
    "    def each_opinion(self):\n",
    "        \"\"\" Returns a list of the opinion of all agents. \"\"\"\n",
    "        return [tuple(agent.opinion) for agent in self.agents]\n",
    "\n",
    "    def average_opinion(self):\n",
    "        \"\"\" Yields the average opinion of all agents. \"\"\"\n",
    "        opinions = self.each_opinion()\n",
    "        opinion_length = len(opinions[0])\n",
    "        average_opinion = []\n",
    "        for i in range(opinion_length):\n",
    "            average = sum([item[i] for item in opinions])/len(opinions)\n",
    "            average_opinion.append(average)\n",
    "        return tuple(average_opinion)\n"
   ]
  },
  {
   "cell_type": "markdown",
   "metadata": {},
   "source": [
    "### Two-Axis Opinion Simulation"
   ]
  },
  {
   "cell_type": "code",
   "execution_count": 8,
   "metadata": {},
   "outputs": [],
   "source": [
    "# Instantiate population and add agents\n",
    "pop_size = 150\n",
    "updates_per_step = pop_size\n",
    "pop = MultipleOpinionPopulation()\n",
    "pop.populate(n=pop_size)\n",
    "\n",
    "# Record average opinion and the opinion of each agent\n",
    "num_steps = 100\n",
    "x = list(range(num_steps))\n",
    "avg_o = []\n",
    "ys = []\n",
    "\n",
    "# Run the simulation\n",
    "for x_val in x:\n",
    "    avg_o.append(pop.average_opinion())\n",
    "    ys.append(pop.each_opinion())\n",
    "    pop.update_random(updates_per_step)\n",
    "\n",
    "ys = list(zip(*ys))"
   ]
  },
  {
   "cell_type": "code",
   "execution_count": 9,
   "metadata": {},
   "outputs": [
    {
     "data": {
      "image/png": "[encoded data removed]",
      "text/plain": [
       "<Figure size 432x288 with 1 Axes>"
      ]
     },
     "metadata": {
      "needs_background": "light"
     },
     "output_type": "display_data"
    }
   ],
   "source": [
    "import time\n",
    "import numpy as np\n",
    "from IPython.display import clear_output\n",
    "from sklearn.cluster import MeanShift\n",
    "import numpy as np\n",
    "\n",
    "xrange = [-150, 150]\n",
    "yrange = [-150, 150]\n",
    "\n",
    "num_clusters = []\n",
    "\n",
    "for t in range(num_steps):\n",
    "    \n",
    "    # Find clusters\n",
    "    x_series = [series[t][0] for series in ys]\n",
    "    y_series = [series[t][1] for series in ys]\n",
    "    data = np.asarray([x_series, y_series]).transpose()\n",
    "    ms = MeanShift(bandwidth=30)\n",
    "    ms.fit(data)\n",
    "    \n",
    "    # Animate data\n",
    "    for point in data:\n",
    "        x_val, y_val = point\n",
    "        plt.plot([x_val], [y_val], 'k.', markersize=5)\n",
    "    for point in ms.cluster_centers_:\n",
    "        x_val, y_val = point\n",
    "        plt.plot([x_val], [y_val], 'r.', markersize=15)\n",
    "    \n",
    "    num_clusters.append(len(ms.cluster_centers_))\n",
    "    clear_output(wait=True)\n",
    "    plt.xlim(xrange)\n",
    "    plt.ylim(yrange)\n",
    "    plt.show()\n",
    "    time.sleep(0.01)\n",
    "plt.show()"
   ]
  },
  {
   "cell_type": "markdown",
   "metadata": {},
   "source": [
    "### Clustering in 2D\n",
    "As a way to validate that clusters are forming and shifting as the simulation runs, I performed mean shift clustering analysis on the data in each time step and counted the number of clusters. I used a bandwidth parameter of 30, based on the general scale of my data (the total range along any axis tended to be around 100).\n",
    "\n",
    "Ideally, if pluralism occurred, this graph would show clusters that change over time, but are somewhat stable between time steps (that is, not wildly oscillating between 1 and 50 clusters). My results tended to have one amorphous central cluster, that tended to have regions of higher or lower density such that it was sometimes represented as multiple clusters, and small \"outlier\" groups of less than ten agents.\n",
    "\n",
    "These small clusters are more highly mobile in the opinion space (it takes less coincidence to get all agents in the cluster to move in one direction) while still staying pretty tightly clustered with each other."
   ]
  },
  {
   "cell_type": "code",
   "execution_count": 10,
   "metadata": {},
   "outputs": [
    {
     "data": {
      "image/png": "[encoded data removed]",
      "text/plain": [
       "<Figure size 432x288 with 1 Axes>"
      ]
     },
     "metadata": {
      "needs_background": "light"
     },
     "output_type": "display_data"
    }
   ],
   "source": [
    "plt.plot(num_clusters)\n",
    "plt.show()"
   ]
  },
  {
   "cell_type": "code",
   "execution_count": null,
   "metadata": {},
   "outputs": [],
   "source": []
  },
  {
   "cell_type": "code",
   "execution_count": null,
   "metadata": {},
   "outputs": [],
   "source": []
  },
  {
   "cell_type": "code",
   "execution_count": null,
   "metadata": {},
   "outputs": [],
   "source": []
  }
 ],
 "metadata": {
  "kernelspec": {
   "display_name": "Python 3",
   "language": "python",
   "name": "python3"
  },
  "language_info": {
   "codemirror_mode": {
    "name": "ipython",
    "version": 3
   },
   "file_extension": ".py",
   "mimetype": "text/x-python",
   "name": "python",
   "nbconvert_exporter": "python",
   "pygments_lexer": "ipython3",
   "version": "3.7.4"
  }
 },
 "nbformat": 4,
 "nbformat_minor": 2
}
